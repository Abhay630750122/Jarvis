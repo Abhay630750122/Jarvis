{
 "cells": [
  {
   "cell_type": "code",
   "execution_count": 1,
   "id": "db5a8417-f499-49fb-87be-c1243af39c24",
   "metadata": {},
   "outputs": [
    {
     "name": "stdout",
     "output_type": "stream",
     "text": [
      "Mango\n",
      "Apple\n",
      "Banana\n",
      "Grapes\n"
     ]
    }
   ],
   "source": [
    "#A for loop is usually used when you know the exact number of times you want to iterate through a piece of code. It is a great choice when you have a well-defined sequence of items to loop through.\n",
    "\n",
    "#For example, let's say you have a list of names and you want to print each name in the list:\n",
    "\n",
    "fruits = [\"Mango\", \"Apple\", \"Banana\", \"Grapes\"]\n",
    "for fruit in fruits:\n",
    "    print(fruit)"
   ]
  },
  {
   "cell_type": "code",
   "execution_count": null,
   "id": "9aec0b95-384f-464f-a300-930b899beade",
   "metadata": {},
   "outputs": [],
   "source": [
    "#a while loop is used when you don't know how many times you need to iterate through a piece of code. The loop will continue to execute as long as the condition specified is True.\n",
    "\n",
    "#For example, let's say you want to keep asking a user for input until they enter the word \"quit\":\n",
    "\n",
    "while True:\n",
    "    user_input = input(\"Enter a word (or type 'quit' to exit): \")\n",
    "    if user_input == \"quit\":\n",
    "        break\n",
    "    else:\n",
    "        print(\"You entered: \" + user_input)\n"
   ]
  },
  {
   "cell_type": "code",
   "execution_count": null,
   "id": "a143ec1c-820a-47ce-80cb-c5f19b8ad631",
   "metadata": {},
   "outputs": [],
   "source": []
  }
 ],
 "metadata": {
  "kernelspec": {
   "display_name": "Python 3 (ipykernel)",
   "language": "python",
   "name": "python3"
  },
  "language_info": {
   "codemirror_mode": {
    "name": "ipython",
    "version": 3
   },
   "file_extension": ".py",
   "mimetype": "text/x-python",
   "name": "python",
   "nbconvert_exporter": "python",
   "pygments_lexer": "ipython3",
   "version": "3.10.8"
  }
 },
 "nbformat": 4,
 "nbformat_minor": 5
}
